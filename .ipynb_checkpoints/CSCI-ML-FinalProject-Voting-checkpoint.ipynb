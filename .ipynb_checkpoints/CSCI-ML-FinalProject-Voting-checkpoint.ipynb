{
 "cells": [
  {
   "cell_type": "code",
   "execution_count": 61,
   "id": "f433f019-47ec-4353-ba4a-026f058e2200",
   "metadata": {},
   "outputs": [],
   "source": [
    "import pandas as pd\n",
    "import sklearn\n",
    "import numpy as np\n",
    "import plotly as plt\n",
    "from sklearn.linear_model import LogisticRegression\n",
    "from sklearn.linear_model import LinearRegression\n",
    "from sklearn.tree import DecisionTreeClassifier\n",
    "from sklearn.model_selection import train_test_split\n",
    "from sklearn.metrics import accuracy_score\n",
    "from collections import Counter\n",
    "import matplotlib.pyplot as plt\n",
    "import seaborn as sns\n",
    "import warnings\n",
    "import plotly.graph_objects as go\n",
    "warnings.simplefilter(action='ignore', category=FutureWarning)\n",
    "import statsmodels.formula.api as smf\n",
    "import statsmodels.api as sm\n",
    "import plotly.io as pio\n",
    "pio.renderers.default = 'iframe'\n",
    "from sklearn.metrics import RocCurveDisplay\n",
    "from sklearn.preprocessing import LabelBinarizer\n",
    "from sklearn.metrics import recall_score"
   ]
  },
  {
   "cell_type": "code",
   "execution_count": 62,
   "id": "bb3566da-f003-4f33-bd98-fcdc3624eacc",
   "metadata": {},
   "outputs": [],
   "source": [
    "### use 2016 and 2020 data voter data sourced from boulder county, lets see if we can predict the 2020 election\n",
    "### then, lets see if we can predict 2024 using the same model!\n",
    "### best to use classifier, and classify precinct as voting for a given candidate based on previous voting history\n",
    "\n",
    "\n",
    "def importVotingData():\n",
    "    voterRegistrationSetOne = pd.read_csv('VotingData/VoterDetailsListPart1.csv', sep=',', low_memory=False)\n",
    "    voterRegistrationSetTwo = pd.read_csv('VotingData/VoterDetailsListPart2.csv', sep=',', low_memory=False)\n",
    "    return voterRegistrationSetOne, voterRegistrationSetTwo\n",
    "\n",
    "\n",
    "def import2020VotingResultsByPrecinct():\n",
    "    precinctResults = pd.read_csv('VotingData/2020BoulderCountyElectionResults.csv', sep=',', low_memory=False)\n",
    "    return precinctResults\n",
    "\n",
    "def cleanVoterRegistrationData(df = None):\n",
    "    df = df[['VOTER_ID', 'VOTER_STATUS',  'BIRTH_YEAR', 'GENDER', 'PRECINCT_CODE', 'PARTY',]]\n",
    "    df.PARTY.replace(['DEM', 'REP'], [0, 1], inplace=True)\n",
    "    df.VOTER_STATUS.replace(['Active', 'Inactive'], [1, 0], inplace=True)\n",
    "    df.GENDER.replace(['Male', 'Female', 'X' , 'Not Disclosed'], [1, 0, 0, 0], inplace=True)\n",
    "    df = df[(df.PARTY == 0) | (df.PARTY == 1)]\n",
    "\n",
    "\n",
    "\n",
    "    return df\n",
    "\n",
    "\n",
    "\n",
    "    "
   ]
  },
  {
   "cell_type": "code",
   "execution_count": 37,
   "id": "b31d861b-c39f-4d70-aae5-2970131aa16e",
   "metadata": {},
   "outputs": [],
   "source": [
    "voterRegistrationSetOne, voterRegistrationSetTwo = importVotingData()\n"
   ]
  },
  {
   "cell_type": "code",
   "execution_count": null,
   "id": "6a2eef0f-8b3f-45fd-9e43-8c97ac7ed43d",
   "metadata": {},
   "outputs": [],
   "source": []
  },
  {
   "cell_type": "code",
   "execution_count": 38,
   "id": "928ff727-67ef-4437-afe8-88d703d40c14",
   "metadata": {},
   "outputs": [
    {
     "name": "stderr",
     "output_type": "stream",
     "text": [
      "C:\\Users\\william\\AppData\\Local\\Temp\\ipykernel_26040\\3507401150.py:18: SettingWithCopyWarning:\n",
      "\n",
      "\n",
      "A value is trying to be set on a copy of a slice from a DataFrame\n",
      "\n",
      "See the caveats in the documentation: https://pandas.pydata.org/pandas-docs/stable/user_guide/indexing.html#returning-a-view-versus-a-copy\n",
      "\n",
      "C:\\Users\\william\\AppData\\Local\\Temp\\ipykernel_26040\\3507401150.py:19: SettingWithCopyWarning:\n",
      "\n",
      "\n",
      "A value is trying to be set on a copy of a slice from a DataFrame\n",
      "\n",
      "See the caveats in the documentation: https://pandas.pydata.org/pandas-docs/stable/user_guide/indexing.html#returning-a-view-versus-a-copy\n",
      "\n",
      "C:\\Users\\william\\AppData\\Local\\Temp\\ipykernel_26040\\3507401150.py:20: SettingWithCopyWarning:\n",
      "\n",
      "\n",
      "A value is trying to be set on a copy of a slice from a DataFrame\n",
      "\n",
      "See the caveats in the documentation: https://pandas.pydata.org/pandas-docs/stable/user_guide/indexing.html#returning-a-view-versus-a-copy\n",
      "\n",
      "C:\\Users\\william\\AppData\\Local\\Temp\\ipykernel_26040\\3507401150.py:18: SettingWithCopyWarning:\n",
      "\n",
      "\n",
      "A value is trying to be set on a copy of a slice from a DataFrame\n",
      "\n",
      "See the caveats in the documentation: https://pandas.pydata.org/pandas-docs/stable/user_guide/indexing.html#returning-a-view-versus-a-copy\n",
      "\n",
      "C:\\Users\\william\\AppData\\Local\\Temp\\ipykernel_26040\\3507401150.py:19: SettingWithCopyWarning:\n",
      "\n",
      "\n",
      "A value is trying to be set on a copy of a slice from a DataFrame\n",
      "\n",
      "See the caveats in the documentation: https://pandas.pydata.org/pandas-docs/stable/user_guide/indexing.html#returning-a-view-versus-a-copy\n",
      "\n",
      "C:\\Users\\william\\AppData\\Local\\Temp\\ipykernel_26040\\3507401150.py:20: SettingWithCopyWarning:\n",
      "\n",
      "\n",
      "A value is trying to be set on a copy of a slice from a DataFrame\n",
      "\n",
      "See the caveats in the documentation: https://pandas.pydata.org/pandas-docs/stable/user_guide/indexing.html#returning-a-view-versus-a-copy\n",
      "\n"
     ]
    }
   ],
   "source": [
    "voterRegistrationSetOne = cleanVoterRegistrationData(voterRegistrationSetOne)\n",
    "voterRegistrationSetTwo = cleanVoterRegistrationData(voterRegistrationSetTwo)\n",
    "\n"
   ]
  },
  {
   "cell_type": "code",
   "execution_count": 39,
   "id": "89ac89eb-21f8-4a75-8ef1-869adde2844f",
   "metadata": {},
   "outputs": [],
   "source": [
    "voterRegistrationSet = pd.concat([voterRegistrationSetOne, voterRegistrationSetTwo], ignore_index=True)"
   ]
  },
  {
   "cell_type": "code",
   "execution_count": 40,
   "id": "2e247fd2-857b-4660-86dc-daf9ca6db1fc",
   "metadata": {},
   "outputs": [],
   "source": [
    "precinctResults = import2020VotingResultsByPrecinct()\n",
    "voterRegistrationSet['PARTY'] = pd.to_numeric(voterRegistrationSet['PARTY'])"
   ]
  },
  {
   "cell_type": "code",
   "execution_count": 41,
   "id": "bbb78dcb-1459-4da3-bab4-1a372ebb64ef",
   "metadata": {},
   "outputs": [],
   "source": [
    "### - Reorganize column order for ease of access\n",
    "\n",
    "#reorganizedColumns = ['VOTER_ID', 'VOTER_STATUS','GENDER','BIRTH_YEAR', 'PRECINCT_CODE', 'PARTY', ]\n",
    "reorganizedColumns = ['VOTER_STATUS','GENDER', 'PARTY']\n",
    "voterRegistrationSet = voterRegistrationSet.reindex(columns=reorganizedColumns)\n"
   ]
  },
  {
   "cell_type": "code",
   "execution_count": 42,
   "id": "ca954472-a3af-4497-81fa-2d200682ea14",
   "metadata": {},
   "outputs": [
    {
     "name": "stdout",
     "output_type": "stream",
     "text": [
      "        VOTER_STATUS  GENDER  PARTY\n",
      "0                  1       1      0\n",
      "1                  0       0      0\n",
      "2                  1       1      0\n",
      "3                  1       1      0\n",
      "4                  1       1      0\n",
      "...              ...     ...    ...\n",
      "127194             1       1      1\n",
      "127195             0       1      0\n",
      "127196             1       1      0\n",
      "127197             1       0      0\n",
      "127198             1       1      0\n",
      "\n",
      "[127199 rows x 3 columns]\n"
     ]
    }
   ],
   "source": [
    "print(voterRegistrationSet)"
   ]
  },
  {
   "cell_type": "code",
   "execution_count": 43,
   "id": "8d8646e2-9216-49a4-a125-64ad205be2c9",
   "metadata": {},
   "outputs": [],
   "source": [
    "voterRegistrationSetNumpy = voterRegistrationSet.to_numpy()"
   ]
  },
  {
   "cell_type": "code",
   "execution_count": null,
   "id": "1c55bea7-d2cd-4c28-add6-b15d29b9c6a1",
   "metadata": {},
   "outputs": [],
   "source": []
  },
  {
   "cell_type": "code",
   "execution_count": 70,
   "id": "b2a4ea8c-1750-4684-b08a-461e8bfa32d5",
   "metadata": {},
   "outputs": [
    {
     "name": "stdout",
     "output_type": "stream",
     "text": [
      "                                 OLS Regression Results                                \n",
      "=======================================================================================\n",
      "Dep. Variable:                      y   R-squared (uncentered):                   0.208\n",
      "Model:                            OLS   Adj. R-squared (uncentered):              0.208\n",
      "Method:                 Least Squares   F-statistic:                          1.672e+04\n",
      "Date:                Mon, 09 Dec 2024   Prob (F-statistic):                        0.00\n",
      "Time:                        00:29:27   Log-Likelihood:                         -67919.\n",
      "No. Observations:              127199   AIC:                                  1.358e+05\n",
      "Df Residuals:                  127197   BIC:                                  1.359e+05\n",
      "Df Model:                           2                                                  \n",
      "Covariance Type:            nonrobust                                                  \n",
      "==============================================================================\n",
      "                 coef    std err          t      P>|t|      [0.025      0.975]\n",
      "------------------------------------------------------------------------------\n",
      "x1             0.1577      0.002    100.667      0.000       0.155       0.161\n",
      "x2             0.1274      0.002     56.841      0.000       0.123       0.132\n",
      "==============================================================================\n",
      "Omnibus:                    22257.340   Durbin-Watson:                   1.931\n",
      "Prob(Omnibus):                  0.000   Jarque-Bera (JB):            36646.412\n",
      "Skew:                           1.314   Prob(JB):                         0.00\n",
      "Kurtosis:                       2.936   Cond. No.                         2.28\n",
      "==============================================================================\n",
      "\n",
      "Notes:\n",
      "[1] R² is computed without centering (uncentered) since the model does not contain a constant.\n",
      "[2] Standard Errors assume that the covariance matrix of the errors is correctly specified.\n"
     ]
    }
   ],
   "source": [
    "voterRegistrationSet_train, voterRegistrationSet_test, voterParty_train, voterParty_test = train_test_split(voterRegistrationSetNumpy[:,0:2], voterRegistrationSetNumpy[:,2], test_size=0.5, train_size=0.5, random_state=42)\n",
    "\n",
    "\n",
    "\n",
    "model = LogisticRegression(solver='liblinear', random_state=10)\n",
    "#model.fit(voterRegistrationSet_train, voterParty_train)\n",
    "model.fit(voterRegistrationSet_train, voterParty_train)\n",
    "\n",
    "voterPredict = model.predict(voterRegistrationSet_test)\n",
    "accuracy = accuracy_score(voterParty_test, voterPredict)\n",
    "\n",
    "actualRegistration = dict(Counter(voterParty_test))\n",
    "predictedRegistration = dict(Counter(voterPredict))\n",
    "\n",
    "mod = sm.OLS(voterRegistrationSetNumpy[:,2], voterRegistrationSetNumpy[:,0:2])\n",
    "fit = mod.fit()\n",
    "print(fit.summary())\n"
   ]
  },
  {
   "cell_type": "code",
   "execution_count": 45,
   "id": "678a103a-4df2-452e-ada8-6827e9c3fd03",
   "metadata": {},
   "outputs": [
    {
     "name": "stdout",
     "output_type": "stream",
     "text": [
      "[49940, 13660]\n"
     ]
    },
    {
     "data": {
      "text/html": [
       "<iframe\n",
       "    scrolling=\"no\"\n",
       "    width=\"100%\"\n",
       "    height=\"545px\"\n",
       "    src=\"iframe_figures/figure_45.html\"\n",
       "    frameborder=\"0\"\n",
       "    allowfullscreen\n",
       "></iframe>\n"
      ]
     },
     "metadata": {},
     "output_type": "display_data"
    }
   ],
   "source": [
    "fig = go.Figure()\n",
    "print([actualRegistration[0], actualRegistration[1]])\n",
    "\n",
    "\n",
    "\n",
    "fig.add_trace(go.Bar(\n",
    "    x=['Democrats', 'Republicans'],\n",
    "    y=[actualRegistration[0], actualRegistration[1]],\n",
    "    name='Actual Registration',\n",
    "        )\n",
    "    )\n",
    "\n",
    "\n",
    "fig.add_trace(go.Bar(\n",
    "    x=['Democrats', 'Republicans'],\n",
    "    y=[predictedRegistration[0], 0],\n",
    "    name='Predicted Registration',\n",
    "        )\n",
    "    )\n",
    "fig.update_layout(yaxis=dict(title='Number of Registrations'), xaxis=dict(title='Political Parties'), title=dict(text=\"Actual vs Predicted Registration\"))\n",
    "\n",
    "fig.show()\n"
   ]
  },
  {
   "cell_type": "code",
   "execution_count": 57,
   "id": "58933984-dcd6-4c04-bcc0-b59d53492a59",
   "metadata": {},
   "outputs": [
    {
     "data": {
      "text/plain": [
       "<sklearn.metrics._plot.roc_curve.RocCurveDisplay at 0x1a86200d160>"
      ]
     },
     "execution_count": 57,
     "metadata": {},
     "output_type": "execute_result"
    },
    {
     "data": {
      "image/png": "[encoded data removed]",
      "text/plain": [
       "<Figure size 640x480 with 1 Axes>"
      ]
     },
     "metadata": {},
     "output_type": "display_data"
    }
   ],
   "source": [
    "RocCurveDisplay.from_predictions(voterParty_test, voterPredict, pos_label=1)"
   ]
  },
  {
   "cell_type": "code",
   "execution_count": null,
   "id": "80ab06ec-3a5d-4aaf-92b8-8abb7e926424",
   "metadata": {},
   "outputs": [],
   "source": []
  },
  {
   "cell_type": "code",
   "execution_count": null,
   "id": "0f2c9a15-81e7-44fd-af7f-ce8f0cc10a50",
   "metadata": {},
   "outputs": [],
   "source": []
  },
  {
   "cell_type": "code",
   "execution_count": null,
   "id": "2556f070-85e0-4569-9b96-f19d16fe3a56",
   "metadata": {},
   "outputs": [],
   "source": []
  }
 ],
 "metadata": {
  "kernelspec": {
   "display_name": "Python 3 (ipykernel)",
   "language": "python",
   "name": "python3"
  },
  "language_info": {
   "codemirror_mode": {
    "name": "ipython",
    "version": 3
   },
   "file_extension": ".py",
   "mimetype": "text/x-python",
   "name": "python",
   "nbconvert_exporter": "python",
   "pygments_lexer": "ipython3",
   "version": "3.12.2"
  }
 },
 "nbformat": 4,
 "nbformat_minor": 5
}
